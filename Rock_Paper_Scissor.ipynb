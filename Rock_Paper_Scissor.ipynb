{
 "cells": [
  {
   "cell_type": "code",
   "execution_count": 1,
   "metadata": {},
   "outputs": [
    {
     "name": "stdout",
     "output_type": "stream",
     "text": [
      "ROCK(r), PAPER(p), SCISSOR(s)!!\n",
      "RULES:\n",
      "        *Rock beats scissors\n",
      "        *Scissors beats paper\n",
      "        *Paper beats rock\n"
     ]
    },
    {
     "name": "stdin",
     "output_type": "stream",
     "text": [
      "Choose your bait Player 1 (r/p/s):  \n",
      "Choose your bait Player 2 (r/p/s):  ·\n"
     ]
    },
    {
     "name": "stdout",
     "output_type": "stream",
     "text": [
      "Wrong bait entered or the baits are equal!!\n",
      "Want to start a new game? (yes/no):\n"
     ]
    },
    {
     "name": "stdin",
     "output_type": "stream",
     "text": [
      "None yes\n",
      "Choose your bait Player 1 (r/p/s):  ·\n",
      "Choose your bait Player 2 (r/p/s):  ·\n"
     ]
    },
    {
     "name": "stdout",
     "output_type": "stream",
     "text": [
      "Wrong bait entered or the baits are equal!!\n",
      "Want to start a new game? (yes/no):\n"
     ]
    },
    {
     "name": "stdin",
     "output_type": "stream",
     "text": [
      "None no\n"
     ]
    },
    {
     "name": "stdout",
     "output_type": "stream",
     "text": [
      "Thanks for Playing!!\n"
     ]
    }
   ],
   "source": [
    "#Rock Paper Scissors (2-player)\n",
    "#R=Rock, P=Paper, S=Scissor\n",
    "import getpass\n",
    "list=['r','p','s']\n",
    "print(\"ROCK(r), PAPER(p), SCISSOR(s)!!\")\n",
    "ng='yes'\n",
    "print(\"\"\"RULES:\n",
    "        *Rock beats scissors\n",
    "        *Scissors beats paper\n",
    "        *Paper beats rock\"\"\")\n",
    "#quit=input(\"Anyone want to quit? (yes/no) \")\n",
    "while ng=='yes':\n",
    "    p1=getpass.getpass(prompt=\"Choose your bait Player 1 (r/p/s): \")\n",
    "    p2=getpass.getpass(prompt=\"Choose your bait Player 2 (r/p/s): \")\n",
    "    #quit= input(\"Anyone wants to quit? (yes/no)\")\n",
    "    if((p1==list[0]) and (p2==list[2])):\n",
    "            print(\"Rock beats Scissor, Player 1 Won, Congratulations!! Player 1\")\n",
    "            ng=input(print(\"Want to start a new game? (yes/no):\"))\n",
    "    if((p1==list[1]) and (p2==list[0])):\n",
    "            print(\"Paper beats Rock, Player 1 Won, Congratulations!! Player 1\")\n",
    "            ng=input(print(\"Want to start a new game? (yes/no):\"))\n",
    "    if((p1==list[2]) and (p2==list[1])):\n",
    "            print(\"Scissor beats Paper, Player 1 Won, Congratulations!! Player 1\")\n",
    "            ng=input(print(\"Want to start a new game? (yes/no):\"))\n",
    "    if((p1==list[2]) and (p2==list[0])):\n",
    "            print(\"Rock beats Scissor, Player 2 Won, Congratulations!! Player 2\")\n",
    "            ng=input(print(\"Want to start a new game? (yes/no):\"))\n",
    "    if((p1==list[0]) and (p2==list[1])):\n",
    "            print(\"Paper beats Rock, Player 2 Won, Congratulations!! Player 2\")\n",
    "            ng=input(print(\"Want to start a new game? (yes/no):\"))\n",
    "    if((p1==list[1]) and (p2==list[2])):\n",
    "            print(\"Scissor beats Paper, Player 2 Won, Congratulations!! Player 2\")\n",
    "            ng=input(print(\"Want to start a new game? (yes/no):\"))\n",
    "    else:\n",
    "        print(\"Wrong bait entered or the baits are equal!!\")\n",
    "        ng=input(print(\"Want to start a new game? (yes/no):\"))\n",
    "    if(ng=='no'):\n",
    "            print(\"Thanks for Playing!!\")\n",
    "            \n"
   ]
  },
  {
   "cell_type": "raw",
   "metadata": {},
   "source": []
  }
 ],
 "metadata": {
  "kernelspec": {
   "display_name": "Python 3",
   "language": "python",
   "name": "python3"
  },
  "language_info": {
   "codemirror_mode": {
    "name": "ipython",
    "version": 3
   },
   "file_extension": ".py",
   "mimetype": "text/x-python",
   "name": "python",
   "nbconvert_exporter": "python",
   "pygments_lexer": "ipython3",
   "version": "3.6.7"
  }
 },
 "nbformat": 4,
 "nbformat_minor": 2
}
